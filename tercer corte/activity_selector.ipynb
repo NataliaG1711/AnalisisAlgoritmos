{
 "cells": [
  {
   "cell_type": "code",
   "execution_count": 19,
   "id": "2d2c2f47",
   "metadata": {},
   "outputs": [],
   "source": [
    "def recursive_activity_selector(s,f,k,n):\n",
    "  m=k+1 #siguiente evento\n",
    "  while m<n and s[m] < f[k]: #Encontrar la primera actividad Sk para finalizar\n",
    "    m=m+1\n",
    "  if m<n:\n",
    "    return [m]+recursive_activity_selector(s,f,m,n)\n",
    "  return []"
   ]
  },
  {
   "cell_type": "code",
   "execution_count": null,
   "id": "d9b5e0d6",
   "metadata": {},
   "outputs": [
    {
     "name": "stdout",
     "output_type": "stream",
     "text": [
      "[1, 4, 8, 11]\n"
     ]
    }
   ],
   "source": [
    "start = [0,1,3,0,5,3,5,6,8,8,2,12]\n",
    "finish = [0,4,5,6,7,9,9,10,11,12,14,16] #Ordenados por el tiempo de finalizacion\n",
    "n = len(start)\n",
    "k = 0\n",
    "print(recursive_activity_selector(start,finish,k,n)) "
   ]
  },
  {
   "cell_type": "code",
   "execution_count": 40,
   "id": "aaac5e48",
   "metadata": {},
   "outputs": [],
   "source": [
    "def greedy_activity_selector(s,f):\n",
    "  n=len(s)\n",
    "  A=[]\n",
    "  k = 0\n",
    "  for m in range(1,n): #Recorrer las actividades restantes\n",
    "    if s[m] >= f[k]:\n",
    "      A = A + [m]\n",
    "      k = m \n",
    "  return A"
   ]
  },
  {
   "cell_type": "code",
   "execution_count": 41,
   "id": "e5aaabf6",
   "metadata": {},
   "outputs": [
    {
     "name": "stdout",
     "output_type": "stream",
     "text": [
      "[1, 4, 8, 11]\n"
     ]
    }
   ],
   "source": [
    "print(greedy_activity_selector(start,finish))"
   ]
  }
 ],
 "metadata": {
  "kernelspec": {
   "display_name": "Python 3",
   "language": "python",
   "name": "python3"
  },
  "language_info": {
   "codemirror_mode": {
    "name": "ipython",
    "version": 3
   },
   "file_extension": ".py",
   "mimetype": "text/x-python",
   "name": "python",
   "nbconvert_exporter": "python",
   "pygments_lexer": "ipython3",
   "version": "3.12.4"
  }
 },
 "nbformat": 4,
 "nbformat_minor": 5
}
